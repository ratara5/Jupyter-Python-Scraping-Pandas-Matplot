{
 "cells": [
  {
   "cell_type": "code",
   "execution_count": null,
   "metadata": {
    "id": "ka9cQfFTGHty"
   },
   "outputs": [],
   "source": [
    "#IMPORT LIBRARIES\n",
    "import time\n",
    "from typing import KeysView\n",
    "\n",
    "from selenium import webdriver\n",
    "from selenium.webdriver.support import expected_conditions as EC\n",
    "from selenium.webdriver.support.ui import WebDriverWait\n",
    "from selenium.webdriver.common.by import By\n",
    "from selenium.webdriver.support.ui import Select\n",
    "from selenium.webdriver.common.keys import Keys\n",
    "\n",
    "import openpyxl as xl\n",
    "import pandas as pd\n",
    "\n",
    "from getpass import getuser"
   ]
  },
  {
   "cell_type": "code",
   "execution_count": null,
   "metadata": {
    "colab": {
     "base_uri": "https://localhost:8080/",
     "height": 727
    },
    "executionInfo": {
     "elapsed": 861,
     "status": "error",
     "timestamp": 1641000679906,
     "user": {
      "displayName": "Raymond Tabares",
      "photoUrl": "https://lh3.googleusercontent.com/a-/AOh14GiENKx40ehAtQFEIVQC8cfDWSOtj177iivHaMlw2w=s64",
      "userId": "04002076097776597881"
     },
     "user_tz": 300
    },
    "id": "jubVL9zrGSn4",
    "outputId": "27cd2e9f-9d4c-4312-8515-885c48f095f4"
   },
   "outputs": [],
   "source": [
    "#CONFIG WEBDRIVER OPTIONS\n",
    "options=webdriver.ChromeOptions()\n",
    "options.add_argument(r'--user-data-dir=C:/Users/{}/AppData/Local/Google/Chrome/User DataDefault'.format(getuser()))\n",
    "options.add_argument('--profile-directory=Default')\n",
    "#options.add_argument('--headless')\n",
    "\n",
    "#INSTANCE WEBDRIVER\n",
    "chrome_browser=webdriver.Chrome(executable_path=r'C:/Users/{}/VscodeFiles/python/infosTj/driver/chromedriver.exe'.format(getuser()),options=options) "
   ]
  },
  {
   "cell_type": "code",
   "execution_count": null,
   "metadata": {
    "colab": {
     "base_uri": "https://localhost:8080/",
     "height": 721
    },
    "executionInfo": {
     "elapsed": 10616,
     "status": "error",
     "timestamp": 1640998554963,
     "user": {
      "displayName": "Raymond Tabares",
      "photoUrl": "https://lh3.googleusercontent.com/a-/AOh14GiENKx40ehAtQFEIVQC8cfDWSOtj177iivHaMlw2w=s64",
      "userId": "04002076097776597881"
     },
     "user_tz": 300
    },
    "id": "aHwPeQEuGygl",
    "outputId": "7de96243-190d-41b0-b40f-f68684fa570c"
   },
   "outputs": [],
   "source": [
    "#SURF TO WEB\n",
    "chrome_browser.get('https:www.jw.org/es/biblioteca/libros')\n",
    "\n",
    "#LIST: Write Content\n",
    "years=['2017','2018','2019','2020','2021'] #value of <option> is equal to 'syrnn' where nn=two last digits of year. \n",
    "for year in years:\n",
    "    \n",
    "    #LIST: Identify Webelements\n",
    "    input =WebDriverWait(chrome_browser,10).until(EC.presence_of_element_located((By.XPATH, '//input[@id=\"pubFilter\"]')))\n",
    "    inputClick=WebDriverWait(chrome_browser, 15).until(EC.element_to_be_clickable(input)); #The class Select doesn't work\n",
    "    input.click()\n",
    "    input.send_keys(Keys.CLEAR)\n",
    "    input.click()\n",
    "    \n",
    "    #FILTER year, because the publications names by years are differents\n",
    "    if year=='2017'or year=='2018':\n",
    "        input.send_keys(\"Informe mundial del año de servicio de los testigos de Jehová {}\".format(year))\n",
    "    else:\n",
    "        input.send_keys(\"Informe mundial de los testigos de Jehová del año de servicio {}\".format(year))\n",
    "    input.send_keys(Keys.ENTER)\n",
    "\n",
    "    #LIST: Send Content(SEARCH)\n",
    "    chrome_browser.find_element(By.XPATH, '//input[@value=\"Buscar\"]').click()\n",
    "\n",
    "    #PUBLICATION\n",
    "    pubDiv =WebDriverWait(chrome_browser,10).until(EC.presence_of_element_located((By.XPATH, '//div[@class=\"publicationDesc\"]'))) #clickable(?)\n",
    "    pub=chrome_browser.find_element(By.XPATH, '//div[@class=\"publicationDesc\"]').click()\n",
    "\n",
    "    #PUBLICATION CONTENT\n",
    "    pubContentDiv =WebDriverWait(chrome_browser,10).until(EC.presence_of_element_located((By.XPATH, '//div[@class=\"syn-body sqs   \"]'))) #clickable(?)\n",
    "    if year=='2017':\n",
    "        infoBuscar='Informe por países y territorios del'+'''\\u00a0'''+year\n",
    "        print(infoBuscar)\n",
    "    else:\n",
    "        infoBuscar='Informe del {} por países y territorios'.format(year) #use find_by_link_text\n",
    "    chrome_browser.find_element(By.XPATH, '//a[contains(text(), \"{}\")]'.format(infoBuscar)).click()\n",
    "\n",
    "    #GET TABLE VALUES\n",
    "    WebDriverWait(chrome_browser,10).until(EC.presence_of_element_located((By.XPATH, '//div[@class=\"tableDiv stripe wide gridlines\"]')))\n",
    "\n",
    "    rows=chrome_browser.find_elements(By.TAG_NAME,'tr') \n",
    "    cols=chrome_browser.find_elements(By.TAG_NAME,'th')\n",
    "    \n",
    "\n",
    "    #Shape\n",
    "    rowsCount=len(rows) #not include +1 what is head\n",
    "    colsCount=len(cols)\n",
    "    print(str(rowsCount+1)+\"x\"+str(colsCount))\n",
    "\n",
    "    #Heads, ie, columns titles\n",
    "    globals()['mc'+year]=[]\n",
    "    for i in range(0,colsCount):\n",
    "        globals()['mc'+year].append(cols[i].text)\n",
    "\n",
    "    #rows\n",
    "    globals()['mr'+year]=[]\n",
    "    for i in range(1,rowsCount):\n",
    "        r=[]\n",
    "        row=rows[i]\n",
    "        for j in range(0,colsCount):\n",
    "            col=row.find_elements(By.TAG_NAME,'td')[j]\n",
    "            r.append(col.text)\n",
    "        globals()['mr'+year].append(r)\n",
    "        \n",
    "    #UP LEVEL\n",
    "    chrome_browser.get('https:www.jw.org/es/biblioteca/libros')"
   ]
  },
  {
   "cell_type": "code",
   "execution_count": null,
   "metadata": {},
   "outputs": [],
   "source": [
    "mr2020"
   ]
  },
  {
   "cell_type": "code",
   "execution_count": 26,
   "metadata": {
    "id": "6vpbnf5RHM5d",
    "scrolled": true
   },
   "outputs": [],
   "source": [
    "#WRITE IN DATAFRAME\n",
    "\n",
    "#REPLACE \".\" (PERIOD) POR \"\" in sequence...\n",
    "def replacePeriod(fila):\n",
    "    for c in globals()['mc'+year]:\n",
    "        characters=\".\"\n",
    "        for x in range(0,len(characters)):\n",
    "            if characters[x] in fila[c]:\n",
    "                fila[c]=fila[c].replace(characters[x],\"\")\n",
    "\n",
    "#...in sequenceREPLACE \",\" (PERIOD) FOR \".\"\n",
    "def replaceComma(fila):\n",
    "    for c in globals()['mc'+year]:\n",
    "        characters=\",\"\n",
    "        for x in range(0,len(characters)):\n",
    "            if characters[x] in fila[c]:\n",
    "                fila[c]=fila[c].replace(characters[x],\".\")\n",
    "\n",
    "years=['2017','2018','2019','2020'] #nowasdays mc2021 exclude\n",
    "\n",
    "for year in years:\n",
    "    #dataframe data is mr, header is mc\n",
    "    globals()['df'+year]=pd.DataFrame(data=globals()['mr'+year], columns=globals()['mc'+year])\n",
    "    #print(df)\n",
    "    #print(df.loc[range(0,5),mc[1:5]]) #in loc put rows in int list and columns in list string\n",
    "    #print(mc[1:]) #names columns with numbers\n",
    "    \n",
    "    #REPLACE /n with 0 #ALERT!!!!!!!!\n",
    "    globals()['df'+year]=globals()['df'+year].replace(r'^\\s*$', '0', regex=True)\n",
    "    globals()['df'+year].apply(replacePeriod,axis=1)\n",
    "    globals()['df'+year].apply(replaceComma,axis=1)\n",
    "\n",
    "\n",
    "    #CHANGE TYPE OF NUMERICS COLUMNS\n",
    "    globals()['df'+year][globals()['mc'+year][1:]]=globals()['df'+year][globals()['mc'+year][1:]].astype(float)\n",
    "    \n",
    "    \n",
    "    #INDEX WILL BE COUNTRY NAME\n",
    "    for i in range(0,globals()['df'+year].shape[0]):\n",
    "        globals()['df'+year]=globals()['df'+year].rename(index={globals()['df'+year].index[i]:globals()['df'+year][globals()['mc'+year][0]][i]})\n",
    "    globals()['df'+year]=globals()['df'+year].drop(columns=globals()['mc'+year][0])"
   ]
  },
  {
   "cell_type": "code",
   "execution_count": 27,
   "metadata": {},
   "outputs": [],
   "source": [
    "#SAVE DATAFRAMES\n",
    "df2017.to_csv('df2017.csv')\n",
    "df2018.to_csv('df2018.csv')\n",
    "df2019.to_csv('df2019.csv')\n",
    "df2020.to_csv('df2020.csv')"
   ]
  },
  {
   "cell_type": "code",
   "execution_count": null,
   "metadata": {},
   "outputs": [],
   "source": [
    "#LOAD DATAFRAMES FROM CSV\n",
    "df2017=pd.read_csv('df2017.csv', index_col=\"Unnamed: 0\")\n",
    "df2018=pd.read_csv('df2018.csv', index_col=\"Unnamed: 0\")\n",
    "df2019=pd.read_csv('df2019.csv', index_col=\"Unnamed: 0\")\n",
    "df2020=pd.read_csv('df2020.csv', index_col=\"Unnamed: 0\")\n",
    "\n",
    "df2017"
   ]
  },
  {
   "cell_type": "code",
   "execution_count": null,
   "metadata": {},
   "outputs": [],
   "source": [
    "#VISUALIZE DF #TODO: PRETTIER PANDAS!!!!!!!! 03/01/2022 2140\n",
    "df2017Col=df2017.loc['Colombia']\n",
    "df2018Col=df2018.loc['Colombia']\n",
    "df2019Col=df2019.loc['Colombia']\n",
    "df2020Col=df2020.loc['Colombia']\n"
   ]
  },
  {
   "cell_type": "code",
   "execution_count": null,
   "metadata": {},
   "outputs": [],
   "source": [
    "df2017Col.shape #9 rows 1 columns\n",
    "\n",
    "#REMOVE NUMBERS OF COLUMNS-NAMES (ALL COLUMNS SHOULD HAVE THE SAME NAMES). USE globals(): TODO FOR ONLY ONE, THEN FOR ALL\n",
    "\n",
    "#FOR ONLY ONE... It doesn't works because mc2017 it defined in block: get data drom web\n",
    "characters = \"0126789\"\n",
    "mc2017n=[]\n",
    "\n",
    "#for c2017 in mc2017:\n",
    "    #for c in characters:\n",
    "        #c2017=c2017.replace(c,\"\")\n",
    "    #mc2017n.append(c2017) #Array with columns-names without numbers (years)\n",
    "#df2017Col=df2017Col.rename(index={c2017:c2017n for (c2017,c2017n) in zip(mc2017,mc2017n)})\n",
    "\n",
    "#...FOR ALL\n",
    "characters = \"0126789\"\n",
    "years=['2017','2018','2019','2020']\n",
    "for year in years:\n",
    "    globals()['mc'+year]=globals()['df'+year].columns\n",
    "    globals()['mc'+year+'n']=[]\n",
    "    for cyear in globals()['mc'+year]:\n",
    "        for char in characters:\n",
    "            cyear=cyear.replace(char,\"\")\n",
    "        globals()['mc'+year+'n'].append(cyear) #Array with columns-names without numbers (years)\n",
    "    globals()['df'+year+'Col']=globals()['df'+year+'Col'].rename(index={cyear:c2020n for (cyear,c2020n) in zip(globals()['mc'+year],globals()['mc'+year+'n'])})\n",
    "    \n",
    "df2017Col=df2017Col.rename(index={mc2017[3]:'Un publicador por cada'}) #Change the name of a column\n",
    "df2017Col\n",
    "df2018Col=df2018Col.rename(index={mc2018[3]:'Un publicador por cada'}) #Change the name of a column\n",
    "df2018Col\n",
    "\n",
    "df2019Col\n",
    "df2020Col\n",
    "\n",
    "dfColombia=pd.DataFrame(index=['2017','2018','2019','2020'],data=[df2017Col,df2018Col,df2019Col,df2020Col])\n",
    "dfColombia"
   ]
  },
  {
   "cell_type": "code",
   "execution_count": null,
   "metadata": {},
   "outputs": [],
   "source": [
    "import matplotlib.pyplot as plt\n",
    "\n",
    "dfColombia['Máximo de publicadores en '].plot(kind='line',color='red',marker='o',linestyle='dashed',legend='Max. Pub')\n",
    "plt.title('Testigos de Jehová en Colombia ['+years[0]+'-'+years[3]+']')\n",
    "plt.show()"
   ]
  },
  {
   "cell_type": "code",
   "execution_count": null,
   "metadata": {},
   "outputs": [],
   "source": [
    "import matplotlib.pyplot as plt\n",
    "import numpy as np\n",
    "from numpy.random import randint\n",
    "\n",
    "plt.rcParams.update({\n",
    "    \"font.weight\": \"bold\",\n",
    "    \"xtick.major.size\": 5,\n",
    "    \"xtick.major.pad\": 7,\n",
    "    \"xtick.labelsize\": 15,\n",
    "    \"grid.color\": \"0.5\",\n",
    "    \"grid.linestyle\": \"-\",\n",
    "    \"grid.linewidth\": 0.5,\n",
    "    \"lines.linewidth\": 2,\n",
    "    \"lines.color\": \"g\",\n",
    "})\n",
    "markers = ['\\\\alpha', '\\\\beta', '\\gamma', '\\sigma','\\infty', \\\n",
    "            '\\spadesuit', '\\heartsuit', '\\diamondsuit', '\\clubsuit', \\\n",
    "            '\\\\bigodot', '\\\\bigotimes', '\\\\bigoplus', '\\imath', '\\\\bowtie', \\\n",
    "            '\\\\bigtriangleup', '\\\\bigtriangledown', '\\oslash' \\\n",
    "           '\\ast', '\\\\times', '\\circ', '\\\\bullet', '\\star', '+', \\\n",
    "            '\\Theta', '\\Xi', '\\Phi', \\\n",
    "            '\\$', '\\#', '\\%', '\\S'] #If writ r'... the last list doesn't neccessary\n",
    "dfColombia['Promedio de precursores'].plot(kind='line',alpha=0.5,color='green',marker=r'$\\Theta$',markersize=randint(2,30,1),linestyle='dashed',legend='Max. Pub')\n",
    "plt.title('Testigos de Jehová en Colombia ['+years[0]+'-'+years[3]+']')\n",
    "plt.grid(visible=True)\n",
    "\n",
    "plt.show()"
   ]
  },
  {
   "cell_type": "code",
   "execution_count": null,
   "metadata": {},
   "outputs": [],
   "source": [
    "dfColombia['Asistencia a la Conmemoración'].plot(kind='line',color='blue',marker='*',legend='Asis. Conm')\n",
    "plt.title('Testigos de Jehová en Colombia ['+years[0]+'-'+years[3]+']')\n",
    "plt.show()"
   ]
  },
  {
   "cell_type": "code",
   "execution_count": null,
   "metadata": {},
   "outputs": [],
   "source": [
    "dfColombia['Número de congregaciones'].plot(kind='line',color='orange',marker='s',legend='Num. Cong')\n",
    "plt.title('Testigos de Jehová en Colombia ['+years[0]+'-'+years[3]+']')\n",
    "plt.show()"
   ]
  },
  {
   "cell_type": "code",
   "execution_count": null,
   "metadata": {},
   "outputs": [],
   "source": [
    "#'Demás países y territorios' ANALYZE\n",
    "df2017Mas=df2017.loc[\"33 países más\"]\n",
    "df2018Mas=df2018.loc[\"33 países más\"]\n",
    "df2019Mas=df2019.loc[\"33 países más\"]\n",
    "df2020Mas=df2020.loc[\"33 países más\"]\n",
    "\n",
    "#...FOR ALL RENAME COLUMNS\n",
    "characters = \"0126789\"\n",
    "years=['2017','2018','2019','2020']\n",
    "for year in years:\n",
    "    globals()['mc'+year]=globals()['df'+year].columns\n",
    "    globals()['mc'+year+'n']=[]\n",
    "    for cyear in globals()['mc'+year]:\n",
    "        for char in characters:\n",
    "            cyear=cyear.replace(char,\"\")\n",
    "        globals()['mc'+year+'n'].append(cyear) #Array with columns-names without numbers (years)\n",
    "    globals()['df'+year+'Mas']=globals()['df'+year+'Mas'].rename(index={cyear:c2020n for (cyear,c2020n) in zip(globals()['mc'+year],globals()['mc'+year+'n'])})\n",
    "\n",
    "#RENAME DISTINCT COLUMNS\n",
    "df2017Mas=df2017Mas.rename(index={mc2017[3]:'Un publicador por cada'}) #Change the name of a column\n",
    "df2017Mas\n",
    "df2018Mas=df2018Mas.rename(index={mc2018[3]:'Un publicador por cada'}) #Change the name of a column\n",
    "df2018Mas\n",
    "df2019Mas\n",
    "df2020Mas\n",
    "\n",
    "dfMas=pd.DataFrame(index=['2017','2018','2019','2020'],data=[df2017Mas,df2018Mas,df2019Mas,df2020Mas])\n",
    "dfMas\n",
    "\n",
    "dfMas['Máximo de publicadores en '].plot(kind='line',color='green',marker=r'$\\bowtie$',linestyle='dashed',legend='Max. Pub')\n",
    "plt.title('Testigos de Jehová en Demás países y territorios ['+years[0]+'-'+years[3]+']')\n",
    "plt.grid(visible=True)\n",
    "plt.show()"
   ]
  },
  {
   "cell_type": "code",
   "execution_count": 133,
   "metadata": {},
   "outputs": [
    {
     "data": {
      "image/png": "[encoded data removed]",
      "text/plain": [
       "<Figure size 432x288 with 1 Axes>"
      ]
     },
     "metadata": {
      "needs_background": "light"
     },
     "output_type": "display_data"
    }
   ],
   "source": [
    "#ANY 'país' ANALIZE\n",
    "pais='Ecuador' #ingresar COUNTRY\n",
    "\n",
    "#CREATE DATAFRAMES FOR YEAR OF 'país'\n",
    "years=['2017','2018','2019','2020']\n",
    "for year in years:\n",
    "    globals()['df'+year+pais]=globals()['df'+year].loc[pais]\n",
    "    globals()['df'+year+pais]=globals()['df'+year].loc[pais]\n",
    "    globals()['df'+year+pais]=globals()['df'+year].loc[pais]\n",
    "    globals()['df'+year+pais]=globals()['df'+year].loc[pais]\n",
    "\n",
    "#...FOR ALL RENAME INDEX\n",
    "characters = \"0126789\"\n",
    "years=['2017','2018','2019','2020']\n",
    "for year in years:\n",
    "    globals()['mc'+year]=globals()['df'+year].columns\n",
    "    globals()['mc'+year+'n']=[]\n",
    "    for cyear in globals()['mc'+year]:\n",
    "        for char in characters:\n",
    "            cyear=cyear.replace(char,\"\")\n",
    "        globals()['mc'+year+'n'].append(cyear) #Array with columns-names without numbers (years)\n",
    "    globals()['df'+year+pais]=globals()['df'+year+pais].rename(index={cyear:cyearn for (cyear,cyearn) in zip(globals()['mc'+year],globals()['mc'+year+'n'])})\n",
    "\n",
    "#RENAME INDEX WITH DISTINCT NAMES\n",
    "globals()['df2017'+pais]=globals()['df2017'+pais].rename(index={globals()['df2017'+pais].index[2]:'Un publicador por cada'}) #Change the name of a column\n",
    "globals()['df2017'+pais]\n",
    "globals()['df2018'+pais]=globals()['df2018'+pais].rename(index={globals()['df2018'+pais].index[2]:'Un publicador por cada'}) #Change the name of a column\n",
    "globals()['df2018'+pais]\n",
    "globals()['df2019'+pais]\n",
    "globals()['df2020'+pais]\n",
    "\n",
    "#DATAFRAME NEW WHOSE INDEX ARE A YEARS (FOR ONLY ONE COUNTRY)\n",
    "globals()['df'+pais]=pd.DataFrame(index=['2017','2018','2019','2020'],data=[globals()['df2017'+pais],globals()['df2018'+pais],globals()['df2019'+pais],globals()['df2020'+pais]])\n",
    "globals()['df'+pais]\n",
    "\n",
    "#PLOT\n",
    "globals()['df'+pais]['Promedio de precursores'].plot(kind='line',color='orange',marker=r'$\\bowtie$',linestyle='dashed',legend='Max. Pub')\n",
    "globals()['df'+pais]['Máximo de publicadores en '].plot(kind='line',color='blue',marker=r'$\\Theta$',linestyle='dashed',legend='Max. Pub')\n",
    "globals()['df'+pais]['Asistencia a la Conmemoración'].plot(kind='line',color='red',marker=r'$\\circ$',linestyle='dashed',legend='Max. Pub')\n",
    "#globals()['df'+'Colombia']['Promedio de precursores'].plot(kind='line',color='green',marker=r'$\\bowtie$',linestyle='dashed',legend='Max. Pub') #to compare. Optimize!!!\n",
    "plt.title('Testigos de Jehová en '+pais+' ['+years[0]+'-'+years[3]+']')\n",
    "plt.grid(visible=True)\n",
    "plt.show()"
   ]
  },
  {
   "cell_type": "code",
   "execution_count": null,
   "metadata": {},
   "outputs": [],
   "source": [
    "#-----------------BELLOW:MORE OPERATIONS------------------#"
   ]
  },
  {
   "cell_type": "code",
   "execution_count": null,
   "metadata": {},
   "outputs": [],
   "source": [
    "#OPERATIONS WITH ONLY ONE DATAFRAME\n",
    "\n",
    "df.describe() #quit exponential notation\n",
    "\n",
    "#df[mc[0]] #values of column=\"Habitantes\"\n",
    "\n",
    "df[mc[1:4]] #values of columns=\"Habitantes\",\"Máximo de publicadores en 2020\",\"Un publicador por cada\"\n",
    "\n",
    "df[[mc[1],mc[6]]] #values of columns=\"Habitantes\", \"Número de bautizados en 2020\"\n",
    "\n",
    "df.loc[0] #values of row=0\n",
    "\n",
    "df.loc[0:3] #values of rows=0,1,2,3 #if index changes (manually), use iloc['country-example']\n",
    "\n",
    "df.loc[[0,2],[mc[0],mc[3]]] #values of intersection rows[0,2] n' columns[0,3], answer the question value of variable 'Un publicador por cada' by countries 'Albania' and 'Andorra'\n",
    "\n",
    "df[df[mc[6]]<1000]#170countries with less 1000 'Número de bautizados en 2020'\n",
    "\n",
    "df[(df[mc[6]]<1000) & (df[mc[1]]>1000000)]#93countries with less than 1000 'Número de bautizados en 2020' y more than 1000000 'Habitantes'\n",
    "\n",
    "df[(df[mc[6]]<1000) & (df[mc[1]]>1000000) & (df[mc[0]].str.contains('a'))]#80countries with less than 1000 'Número de bautizados en 2020' y more than 1000000 'Habitantes' whose 'Country' name contains a\n",
    "\n",
    "def pubMinusPrec(roW):\n",
    "    result=roW[mc[4]]-roW[mc[7]]\n",
    "    return result\n",
    "\n",
    "df[\"publicadores no precursores\"]=df.apply(pubMinusPrec,axis=1) #Calculated column witg operation row by row. def() and apply()\n",
    "df"
   ]
  },
  {
   "cell_type": "code",
   "execution_count": null,
   "metadata": {},
   "outputs": [],
   "source": [
    "#When index rows is default, loc is similar to iloc. loc search for created index, iloc search for numeric index\n",
    "#df=pd.DataFrame(df, index_col=mc[0]) #argument index_col it uses when pd.read csv or excel\n",
    "df.index\n",
    "\n",
    "for i in range(0,df.shape[0]):\n",
    "    df=df.rename(index={df.index[i]:df[mc[0]][i]})\n",
    "df.drop(columns=mc[0])\n",
    "\n",
    "df.loc['Colombia']"
   ]
  },
  {
   "cell_type": "code",
   "execution_count": null,
   "metadata": {},
   "outputs": [],
   "source": [
    "#Group by '% de aumento sobre 2019' mean column 'habitantes', max column 'Máximo publicadores en 2020' (aggregation function)\n",
    "group=df.groupby(mc[5]).agg({\n",
    "    mc[1]:'mean',\n",
    "    mc[2]:'max'\n",
    "}).head()\n",
    "group"
   ]
  },
  {
   "cell_type": "code",
   "execution_count": null,
   "metadata": {},
   "outputs": [],
   "source": [
    "#!pip install matplotlib\n",
    "import matplotlib.pyplot as plt\n",
    "\n",
    "group[mc[1]].plot(kind='bar')\n",
    "plt.show()"
   ]
  },
  {
   "cell_type": "code",
   "execution_count": null,
   "metadata": {},
   "outputs": [],
   "source": [
    "df[mc[4]] #column 'promedio de publicadores', axis x in scatter bellow, independent variable(?)\n",
    "df[mc[9]] #column 'asistencia conmemoración', axis y in scatter bellow, dependent variable(?)\n",
    "\n",
    "#inspect relation(?)\n",
    "df.plot(kind='scatter',x=mc[4],y=mc[9]) #correlation (head and tail?)"
   ]
  },
  {
   "cell_type": "code",
   "execution_count": null,
   "metadata": {},
   "outputs": [],
   "source": [
    "#OPERATIONS WITH ONLY ONE DATAFRAME\n",
    "\n",
    "def pubPerPrec(roW):\n",
    "    try:\n",
    "        result=roW[mc[4]]/roW[mc[7]]\n",
    "    except ZeroDivisionError:\n",
    "        result='NaN' #Management div by zero\n",
    "    return result\n",
    "\n",
    "df[\"publicadores/precursores\"]=df.apply(pubPerPrec,axis=1) #Calculated column witg operation row by row. def() and apply()\n",
    "df[df[\"publicadores/precursores\"]=='NaN']"
   ]
  },
  {
   "cell_type": "code",
   "execution_count": 77,
   "metadata": {},
   "outputs": [],
   "source": [
    "group.to_csv(\"out.csv\") #export"
   ]
  },
  {
   "cell_type": "code",
   "execution_count": 83,
   "metadata": {},
   "outputs": [
    {
     "data": {
      "text/html": [
       "<div>\n",
       "<style scoped>\n",
       "    .dataframe tbody tr th:only-of-type {\n",
       "        vertical-align: middle;\n",
       "    }\n",
       "\n",
       "    .dataframe tbody tr th {\n",
       "        vertical-align: top;\n",
       "    }\n",
       "\n",
       "    .dataframe thead th {\n",
       "        text-align: right;\n",
       "    }\n",
       "</style>\n",
       "<table border=\"1\" class=\"dataframe\">\n",
       "  <thead>\n",
       "    <tr style=\"text-align: right;\">\n",
       "      <th></th>\n",
       "      <th>column 1</th>\n",
       "      <th>column 2</th>\n",
       "      <th>column 3</th>\n",
       "    </tr>\n",
       "  </thead>\n",
       "  <tbody>\n",
       "    <tr>\n",
       "      <th>i1</th>\n",
       "      <td>A</td>\n",
       "      <td>1</td>\n",
       "      <td>True</td>\n",
       "    </tr>\n",
       "    <tr>\n",
       "      <th>i2</th>\n",
       "      <td>B</td>\n",
       "      <td>2</td>\n",
       "      <td>False</td>\n",
       "    </tr>\n",
       "    <tr>\n",
       "      <th>i3</th>\n",
       "      <td>C-</td>\n",
       "      <td>5</td>\n",
       "      <td>True</td>\n",
       "    </tr>\n",
       "  </tbody>\n",
       "</table>\n",
       "</div>"
      ],
      "text/plain": [
       "   column 1  column 2  column 3\n",
       "i1        A         1      True\n",
       "i2        B         2     False\n",
       "i3       C-         5      True"
      ]
     },
     "execution_count": 83,
     "metadata": {},
     "output_type": "execute_result"
    }
   ],
   "source": [
    "#build a dataframe as a dictionaries array. Each dictionary is a row\n",
    "data=[\n",
    "    {\n",
    "        'column 1':'A',\n",
    "        'column 2':1,\n",
    "        'column 3':True   \n",
    "    },\n",
    "    {\n",
    "        'column 1':'B',\n",
    "        'column 2':2,\n",
    "        'column 3':False   \n",
    "    },\n",
    "    {\n",
    "        'column 1':'C'+'-',\n",
    "        'column 2':3+2,\n",
    "        'column 3':True or False   \n",
    "    }\n",
    "]\n",
    "dataFrame=pd.DataFrame(index=['i1','i2','i3'],data=data)\n",
    "dataFrame"
   ]
  },
  {
   "cell_type": "code",
   "execution_count": null,
   "metadata": {},
   "outputs": [],
   "source": [
    "#https://miktex.org/download for Download as pdf via LaTex"
   ]
  }
 ],
 "metadata": {
  "colab": {
   "authorship_tag": "ABX9TyOj+rv9EhKe9tu04O+49d8K",
   "name": "Untitled0.ipynb",
   "provenance": []
  },
  "kernelspec": {
   "display_name": "Python 3 (ipykernel)",
   "language": "python",
   "name": "python3"
  },
  "language_info": {
   "codemirror_mode": {
    "name": "ipython",
    "version": 3
   },
   "file_extension": ".py",
   "mimetype": "text/x-python",
   "name": "python",
   "nbconvert_exporter": "python",
   "pygments_lexer": "ipython3",
   "version": "3.8.0"
  }
 },
 "nbformat": 4,
 "nbformat_minor": 1
}
